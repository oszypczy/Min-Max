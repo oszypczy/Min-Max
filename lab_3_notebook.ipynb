{
 "cells": [
  {
   "cell_type": "code",
   "execution_count": 169,
   "metadata": {},
   "outputs": [],
   "source": [
    "import math"
   ]
  },
  {
   "cell_type": "code",
   "execution_count": 170,
   "metadata": {},
   "outputs": [],
   "source": [
    "class Position:\n",
    "    def __init__(self, table, player, opponent, parent) -> None:\n",
    "        self.table_tokens = table\n",
    "        self.player_tokens = player\n",
    "        self.opponent_tokens = opponent\n",
    "        self.legal_moves = self.set_legal_moves()\n",
    "        self.cost = None\n",
    "        self.parent = parent\n",
    "        self.children = []\n",
    "\n",
    "    def set_legal_moves(self):\n",
    "        if self.table_tokens >= 3:\n",
    "            return [3, 2, 1]\n",
    "        elif self.table_tokens == 2:\n",
    "            return [2, 1]\n",
    "        elif self.table_tokens == 1:\n",
    "            return [1]\n",
    "        else:\n",
    "            return []\n",
    "\n",
    "    def is_terminal_position(self):\n",
    "        return True if self.table_tokens == 0 else False\n",
    "\n",
    "    def set_cost(self, cost):\n",
    "        self.cost = cost\n",
    "\n",
    "    def next_best_move(self):\n",
    "        for each_child in self.children:\n",
    "            if each_child.cost == self.cost:\n",
    "                return each_child\n",
    "\n",
    "    def __str__(self) -> str:\n",
    "        return f'[T: {self.table_tokens}, P: {self.player_tokens}, O: {self.opponent_tokens}, C: {self.cost}]'"
   ]
  },
  {
   "cell_type": "code",
   "execution_count": 190,
   "metadata": {},
   "outputs": [],
   "source": [
    "def heuristic(position: Position, is_max_round: bool, n):\n",
    "    if position.table_tokens == 0 and is_max_round:\n",
    "        return 1\n",
    "    elif position.table_tokens == 0 and not is_max_round:\n",
    "        return -1\n",
    "    else:\n",
    "        return 0"
   ]
  },
  {
   "cell_type": "code",
   "execution_count": 172,
   "metadata": {},
   "outputs": [],
   "source": [
    "def minimax(position : Position, depth : int, alpha : float, beta : float, is_max_round : bool, heuristic : callable, n):\n",
    "\n",
    "    if depth == 0 or position.is_terminal_position():\n",
    "        cost = heuristic(position, is_max_round, n)\n",
    "        position.set_cost(cost)\n",
    "        return cost\n",
    "\n",
    "    if is_max_round:\n",
    "        max_eval = -math.inf\n",
    "        for k in position.legal_moves:\n",
    "            child_position = Position(position.table_tokens - k, position.player_tokens + k, position.opponent_tokens, position)\n",
    "            position.children.append(child_position)\n",
    "            eval = minimax(child_position, depth - 1, alpha, beta, False, heuristic, n)\n",
    "            max_eval = max(max_eval, eval)\n",
    "            alpha = max(alpha, eval)\n",
    "            if beta <= alpha:\n",
    "                break\n",
    "        position.set_cost(max_eval)\n",
    "        return max_eval\n",
    "    else:\n",
    "        min_eval = math.inf\n",
    "        for k in position.legal_moves:\n",
    "            child_position = Position(position.table_tokens - k, position.player_tokens, position.opponent_tokens + k, position)\n",
    "            position.children.append(child_position)\n",
    "            eval = minimax(child_position, depth - 1, alpha, beta, True, heuristic, n)\n",
    "            min_eval = min(min_eval, eval)\n",
    "            beta = min(beta, eval)\n",
    "            if beta <= alpha:\n",
    "                break\n",
    "        position.set_cost(min_eval)\n",
    "        return min_eval\n"
   ]
  },
  {
   "cell_type": "code",
   "execution_count": 176,
   "metadata": {},
   "outputs": [],
   "source": [
    "class Game:\n",
    "    def __init__(self, n, max_depth, min_depth, is_max_round, heuristic) -> None:\n",
    "        self.current_position = Position(n, 0, 0, None)\n",
    "        self.max_depth = max_depth\n",
    "        self.min_depth = min_depth\n",
    "        self.is_max_round = is_max_round\n",
    "        self.heuristic = heuristic\n",
    "        self.n = n\n",
    "\n",
    "    def play(self):\n",
    "\n",
    "        while self.current_position.table_tokens != 0:\n",
    "\n",
    "            if self.is_max_round:\n",
    "                minimax(self.current_position, self.max_depth, -math.inf, math.inf, True, self.heuristic, self.n)\n",
    "                self.is_max_round = False\n",
    "            else:\n",
    "                minimax(self.current_position, self.min_depth, -math.inf, math.inf, False, self.heuristic, self.n)\n",
    "                self.is_max_round = True\n",
    "\n",
    "            self.current_position = self.current_position.next_best_move()\n",
    "\n",
    "        if self.is_max_round:\n",
    "            return 'Max won!'\n",
    "        else:\n",
    "            return 'Min won!'"
   ]
  },
  {
   "cell_type": "code",
   "execution_count": 200,
   "metadata": {},
   "outputs": [
    {
     "name": "stdout",
     "output_type": "stream",
     "text": [
      "Max won 0 times\n",
      "Min won 100 times\n"
     ]
    }
   ],
   "source": [
    "n = 15\n",
    "max_depth = 5\n",
    "min_depth = 10\n",
    "is_max_round = True\n",
    "heuristic = heuristic\n",
    "results = []\n",
    "for _ in range(100):\n",
    "    game = Game(n, max_depth, min_depth, is_max_round, heuristic)\n",
    "    results.append(game.play())\n",
    "\n",
    "print(\"Max won \" + str(results.count('Max won!')) + \" times\")\n",
    "print(\"Min won \" + str(results.count('Min won!')) + \" times\")"
   ]
  }
 ],
 "metadata": {
  "kernelspec": {
   "display_name": "Python 3",
   "language": "python",
   "name": "python3"
  },
  "language_info": {
   "codemirror_mode": {
    "name": "ipython",
    "version": 3
   },
   "file_extension": ".py",
   "mimetype": "text/x-python",
   "name": "python",
   "nbconvert_exporter": "python",
   "pygments_lexer": "ipython3",
   "version": "3.8.10"
  }
 },
 "nbformat": 4,
 "nbformat_minor": 2
}
